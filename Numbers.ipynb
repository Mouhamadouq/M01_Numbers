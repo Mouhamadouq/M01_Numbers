{
 "cells": [
  {
   "cell_type": "code",
   "execution_count": 3,
   "id": "bb329b7f",
   "metadata": {},
   "outputs": [
    {
     "name": "stdout",
     "output_type": "stream",
     "text": [
      "the value of the floating point is  24.0\n",
      "The value of the integer is 24\n"
     ]
    }
   ],
   "source": [
    "#3.1) 60 minutes in an hour and 60 seconds in a minute.\n",
    "#60 x 60 = 3600 seconds per hour\n",
    "#3.2) seconds_per_hour = 3600 \n",
    "#3.3) seconds_per_hour = 3600\n",
    "#Hours_in_a_day = 24\n",
    "#Number of seconds in a day = 24 x 3600 = 86400\n",
    "#3.4) seconds_per_day = 24 x seconds_per_hour\n",
    "#3.5) seconds_per_day / seconds_per_hour \n",
    "#3.6) seconds_per_day // seconds_per_hour\n",
    "#Yes, the number agree with the floating point-value aside from the .0 . the “/” floating division returns the floating point variable and the “/” returns the integer value with .0 at last.\n",
    "seconds_per_hour = 3600\n",
    "seconds_per_day = 24 * seconds_per_hour\n",
    "x = seconds_per_day / seconds_per_hour\n",
    "y = seconds_per_day // seconds_per_hour\n",
    "print(\"the value of the floating point is \", x)\n",
    "print(\"The value of the integer is\", y)"
   ]
  },
  {
   "cell_type": "code",
   "execution_count": null,
   "id": "72e86b94",
   "metadata": {},
   "outputs": [],
   "source": []
  }
 ],
 "metadata": {
  "kernelspec": {
   "display_name": "Python 3 (ipykernel)",
   "language": "python",
   "name": "python3"
  },
  "language_info": {
   "codemirror_mode": {
    "name": "ipython",
    "version": 3
   },
   "file_extension": ".py",
   "mimetype": "text/x-python",
   "name": "python",
   "nbconvert_exporter": "python",
   "pygments_lexer": "ipython3",
   "version": "3.9.13"
  }
 },
 "nbformat": 4,
 "nbformat_minor": 5
}
